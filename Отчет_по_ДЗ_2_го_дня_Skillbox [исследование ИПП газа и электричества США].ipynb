{
  "nbformat": 4,
  "nbformat_minor": 0,
  "metadata": {
    "colab": {
      "name": "Отчет по ДЗ 2-го дня Skillbox.ipynb",
      "provenance": [],
      "collapsed_sections": []
    },
    "kernelspec": {
      "name": "python3",
      "display_name": "Python 3"
    }
  },
  "cells": [
    {
      "cell_type": "markdown",
      "metadata": {
        "id": "nnCmylrayTXz",
        "colab_type": "text"
      },
      "source": [
        "В этом блокноте (*notebook*) будут рассмотрены данные о производстве электрогазового оборудования при помощи изученных методов.\n",
        "\n",
        "Для начала, необходимо посмотреть саму таблицу, предоставленную Skillbox:\n",
        "\n",
        "![raw_table.png](https://sun9-69.userapi.com/J-cgSItj3RBQjhWUXVxc20xV_RFvVElQbcdVSg/OtqQTUiyNlo.jpg)\n",
        "\n",
        "Сверху самой таблицы (столбцы которой означены **observation_date** (дата измерения производства) и **IPG2211A2N** ([индекс промышленного производства](https://equity.today/indeks-promyshlennogo-proizvodstva.html#:~:text=%D0%98%D0%BD%D0%B4%D0%B5%D0%BA%D1%81%20%D0%BF%D1%80%D0%BE%D0%BC%D1%8B%D1%88%D0%BB%D0%B5%D0%BD%D0%BD%D0%BE%D0%B3%D0%BE%20%D0%BF%D1%80%D0%BE%D0%B8%D0%B7%D0%B2%D0%BE%D0%B4%D1%81%D1%82%D0%B2%D0%B0%20%D1%80%D0%B0%D1%81%D1%81%D1%87%D0%B8%D1%82%D1%8B%D0%B2%D0%B0%D0%B5%D1%82%D1%81%D1%8F%20%D0%B5%D0%B6%D0%B5%D0%BC%D0%B5%D1%81%D1%8F%D1%87%D0%BD%D0%BE,%D1%80%D0%B0%D0%B1%D0%BE%D1%87%D0%B8%D0%B5%20%D1%87%D0%B0%D1%81%D1%8B%20%D0%B8%20%D0%BF%D0%BE%D1%82%D1%80%D0%B5%D0%B1%D0%BB%D0%B5%D0%BD%D0%BD%D1%83%D1%8E%20%D1%8D%D0%BD%D0%B5%D1%80%D0%B3%D0%B8%D1%8E.) электрогазового оборудования))\n",
        "находятся сведения о самой таблице.\n",
        "\n",
        "Во избежание проблем при работе с таблицей эти данные следует удалить (*произвести очистку данных*), тем самым преобразовав таблицу в более Pandas и человеко-читаемый вид:\n",
        "\n",
        "![edited.png](https://sun9-46.userapi.com/Ac2FaNky5X9KzOn8pIvIfHlq2VkHyced2ElfHg/YV-BE-FjVdc.jpg)\n",
        "\n",
        "Согласитесь, что переименовав столбец **IPG2211A2N** в **industry_prod_index**, стало более понятнее, что данный столбец означает, и это поможет в дальнейшей работе.\n",
        "\n",
        "Теперь получим прямую ссылку на таблицу для работы с ней в дальнейшем, сделаем это при помощи сервиса, находящегося по ссылке: \n",
        "\n",
        "https://sites.google.com/site/gdocs2direct/#:~:text=If%20you%20want%20to%20create,back%20on%20to%20Google%20Drive.&text=Step%201%3A%20Go%20to%20Google,click%20%22Get%20shareable%20link%22.\n",
        "\n",
        "![gdocs2direct.png](https://sun9-60.userapi.com/KhjN0dRM_3hopDEYPPoHktUAjWL92UZrp7lBOA/PnV7HdFAY0I.jpg)\n",
        "\n",
        "Данный сайт предлагает нам ввести расшаренную в общий доступ ссылку на наш загруженный и отредактированный документ в строку **Enter your sharing URL:**.\n",
        "\n",
        "Собственно, для того, чтобы получить её, нужно на вкладке таблицы нажать **File** и **Share**:\n",
        "\n",
        "![share.png](https://sun9-5.userapi.com/_Fc2B7X1SF8BoWv8hPgIUqnE1lRDoeU7KSniKQ/zQifFHyVKAw.jpg)\n",
        "\n",
        "В открывшемся окне будет предложено скопировать ссылку на документ:\n",
        "\n",
        "![restricted_sharing.png](https://sun9-58.userapi.com/AxyDJff0N-cPoNEX7hES3qTg4LP-S_50nsaFZA/_hxNhkgtv3s.jpg)\n",
        "\n",
        "Но ссылка на сам документ ограничена в пользовании вайтлистом (whitelist) людей, которые могут открыть данный документ, что будет мешать работе сервиса извлечения прямых ссылок, поэтому нужно поменять тип доступа на **Anyone with the link** при помощи кнопки **Change to anyone with the link**, после чего у ссылки на таблицу поменяется тип доступа, соответственно, поменяется сама ссылка:\n",
        "\n",
        "![viewer.png](https://sun9-71.userapi.com/oz4DTvP8Tmqw2NyL0spTJQwpSAohhSWqAnx4gw/G0qRbObyQNQ.jpg)\n",
        "\n",
        "Нажимаем кнопку **Copy link**, после чего ссылка окажется в буфере обмена.\n",
        "\n",
        "Вставляем данную ссылку в поле **Enter your sharing URL:** сервиса получения прямых ссылок, и нажимаем **Create Direct Link**:\n",
        "\n",
        "![direct_link.png](https://sun9-11.userapi.com/YyGTK1pjiex9IWMA-UqY2rMR4dFf-FGLd7rkzw/D4MeoR6mm50.jpg)\n",
        "\n",
        "В поле **Output link:** появится прямая ссылка на таблицу, которую можно использовать для целей исследования."
      ]
    },
    {
      "cell_type": "markdown",
      "metadata": {
        "id": "h3Exwq8S_7GW",
        "colab_type": "text"
      },
      "source": [
        "Импортируем необходимые модули: Pandas для работы с таблицами, matplotlib для работы с графиками:"
      ]
    },
    {
      "cell_type": "code",
      "metadata": {
        "id": "ygahEki0lWCI",
        "colab_type": "code",
        "colab": {}
      },
      "source": [
        "import pandas as pd\n",
        "import matplotlib.pyplot as plt\n",
        "%matplotlib inline"
      ],
      "execution_count": null,
      "outputs": []
    },
    {
      "cell_type": "markdown",
      "metadata": {
        "id": "tYqOMCAeAUvq",
        "colab_type": "text"
      },
      "source": [
        "Cтрочка %matplotlib inline означает, что все графики будут отображаться в рамках блокнота, а не всплывать в отдельном окне."
      ]
    },
    {
      "cell_type": "markdown",
      "metadata": {
        "id": "oq_ZDBpYAk1D",
        "colab_type": "text"
      },
      "source": [
        "Далее, создадим отдельную переменную ipi_data_link для прямой ссылки на таблицу, которая была получена в начале:"
      ]
    },
    {
      "cell_type": "code",
      "metadata": {
        "id": "nOxOJc-bxZVZ",
        "colab_type": "code",
        "colab": {}
      },
      "source": [
        "ipi_data_link = 'https://drive.google.com/uc?export=download&id=1j3INt9siciK5yNj0oglBmeHHe9vds0XU'"
      ],
      "execution_count": null,
      "outputs": []
    },
    {
      "cell_type": "markdown",
      "metadata": {
        "id": "pBEJ5X6qA4aB",
        "colab_type": "text"
      },
      "source": [
        "Теперь, нужно прочесть данную таблицу при помощи средств Pandas, что и сделаем:"
      ]
    },
    {
      "cell_type": "code",
      "metadata": {
        "id": "j65QVpNeA022",
        "colab_type": "code",
        "colab": {}
      },
      "source": [
        "ipi_data = pd.read_excel(ipi_data_link)"
      ],
      "execution_count": null,
      "outputs": []
    },
    {
      "cell_type": "markdown",
      "metadata": {
        "id": "oLhvMo8rBD8C",
        "colab_type": "text"
      },
      "source": [
        "Выведем содержимое таблицы:"
      ]
    },
    {
      "cell_type": "code",
      "metadata": {
        "id": "3eesJ_qaBH04",
        "colab_type": "code",
        "colab": {
          "base_uri": "https://localhost:8080/",
          "height": 419
        },
        "outputId": "5125ef3b-834d-47c2-854c-818044cd233d"
      },
      "source": [
        "ipi_data"
      ],
      "execution_count": null,
      "outputs": [
        {
          "output_type": "execute_result",
          "data": {
            "text/html": [
              "<div>\n",
              "<style scoped>\n",
              "    .dataframe tbody tr th:only-of-type {\n",
              "        vertical-align: middle;\n",
              "    }\n",
              "\n",
              "    .dataframe tbody tr th {\n",
              "        vertical-align: top;\n",
              "    }\n",
              "\n",
              "    .dataframe thead th {\n",
              "        text-align: right;\n",
              "    }\n",
              "</style>\n",
              "<table border=\"1\" class=\"dataframe\">\n",
              "  <thead>\n",
              "    <tr style=\"text-align: right;\">\n",
              "      <th></th>\n",
              "      <th>observation_date</th>\n",
              "      <th>industry_prod_index</th>\n",
              "    </tr>\n",
              "  </thead>\n",
              "  <tbody>\n",
              "    <tr>\n",
              "      <th>0</th>\n",
              "      <td>1939-01-01</td>\n",
              "      <td>3.3842</td>\n",
              "    </tr>\n",
              "    <tr>\n",
              "      <th>1</th>\n",
              "      <td>1939-02-01</td>\n",
              "      <td>3.4100</td>\n",
              "    </tr>\n",
              "    <tr>\n",
              "      <th>2</th>\n",
              "      <td>1939-03-01</td>\n",
              "      <td>3.4875</td>\n",
              "    </tr>\n",
              "    <tr>\n",
              "      <th>3</th>\n",
              "      <td>1939-04-01</td>\n",
              "      <td>3.5133</td>\n",
              "    </tr>\n",
              "    <tr>\n",
              "      <th>4</th>\n",
              "      <td>1939-05-01</td>\n",
              "      <td>3.5133</td>\n",
              "    </tr>\n",
              "    <tr>\n",
              "      <th>...</th>\n",
              "      <td>...</td>\n",
              "      <td>...</td>\n",
              "    </tr>\n",
              "    <tr>\n",
              "      <th>967</th>\n",
              "      <td>2019-08-01</td>\n",
              "      <td>111.2697</td>\n",
              "    </tr>\n",
              "    <tr>\n",
              "      <th>968</th>\n",
              "      <td>2019-09-01</td>\n",
              "      <td>102.0033</td>\n",
              "    </tr>\n",
              "    <tr>\n",
              "      <th>969</th>\n",
              "      <td>2019-10-01</td>\n",
              "      <td>93.9993</td>\n",
              "    </tr>\n",
              "    <tr>\n",
              "      <th>970</th>\n",
              "      <td>2019-11-01</td>\n",
              "      <td>99.8843</td>\n",
              "    </tr>\n",
              "    <tr>\n",
              "      <th>971</th>\n",
              "      <td>2019-12-01</td>\n",
              "      <td>110.8611</td>\n",
              "    </tr>\n",
              "  </tbody>\n",
              "</table>\n",
              "<p>972 rows × 2 columns</p>\n",
              "</div>"
            ],
            "text/plain": [
              "    observation_date  industry_prod_index\n",
              "0         1939-01-01               3.3842\n",
              "1         1939-02-01               3.4100\n",
              "2         1939-03-01               3.4875\n",
              "3         1939-04-01               3.5133\n",
              "4         1939-05-01               3.5133\n",
              "..               ...                  ...\n",
              "967       2019-08-01             111.2697\n",
              "968       2019-09-01             102.0033\n",
              "969       2019-10-01              93.9993\n",
              "970       2019-11-01              99.8843\n",
              "971       2019-12-01             110.8611\n",
              "\n",
              "[972 rows x 2 columns]"
            ]
          },
          "metadata": {
            "tags": []
          },
          "execution_count": 5
        }
      ]
    },
    {
      "cell_type": "markdown",
      "metadata": {
        "id": "ONUk7SagBvuR",
        "colab_type": "text"
      },
      "source": [
        "Как видно из вывода таблицы, таблица содержит данные индекса промышленного производства (ИПП) электрогазового (в оригинале *Electric and gas utilities*. но так как в таблице приводятся смешанные данные как по электро-, так и по газооборудованию, для удобства объединим оба типа оборудования в электрогазооборудование) оборудования по месяцам, начиная от января 1939 года, и заканчивая декабрем 2019 года."
      ]
    },
    {
      "cell_type": "markdown",
      "metadata": {
        "id": "FK6N7UskCJPS",
        "colab_type": "text"
      },
      "source": [
        "Для того, чтобы иметь представление об этих данных, нужно сделать график: по оси абсцисс (X) — дата наблюдений за ИПП, по оси ординат (Y) — сам ИПП:"
      ]
    },
    {
      "cell_type": "code",
      "metadata": {
        "id": "lPmsYQ8OBBS9",
        "colab_type": "code",
        "colab": {
          "base_uri": "https://localhost:8080/",
          "height": 296
        },
        "outputId": "c929d2ce-2862-4197-ff3d-aef9dca8364c"
      },
      "source": [
        "plt.plot(ipi_data['observation_date'], ipi_data['industry_prod_index'])\n",
        "plt.xlabel(\"Годы\")\n",
        "plt.ylabel(\"ИПП э/газ оборудования\")"
      ],
      "execution_count": null,
      "outputs": [
        {
          "output_type": "execute_result",
          "data": {
            "text/plain": [
              "Text(0, 0.5, 'ИПП э/газ оборудования')"
            ]
          },
          "metadata": {
            "tags": []
          },
          "execution_count": 6
        },
        {
          "output_type": "display_data",
          "data": {
            "image/png": "[encoded data removed]",
            "text/plain": [
              "<Figure size 432x288 with 1 Axes>"
            ]
          },
          "metadata": {
            "tags": [],
            "needs_background": "light"
          }
        }
      ]
    },
    {
      "cell_type": "markdown",
      "metadata": {
        "id": "aIUfTPmWCs1y",
        "colab_type": "text"
      },
      "source": [
        "Глядя на данный график, в голову сразу приходит **метод регрессионного анализа** (построение тренда), так как график сильно напоминает линию тренда, которая уходит вверх."
      ]
    },
    {
      "cell_type": "markdown",
      "metadata": {
        "id": "uc3jPkV8DodM",
        "colab_type": "text"
      },
      "source": [
        "Однако, мы не ведем передачи \"Самые шокирующие гипотезы\", а пытаемся сделать подкреплённые вычислениями выводы по тренду производства электрогазового оборудования из предоставленных данных, поэтому, немедленно воспользуемся вышеупомянутым методом:"
      ]
    },
    {
      "cell_type": "code",
      "metadata": {
        "id": "sdVQ6TfpxgBU",
        "colab_type": "code",
        "colab": {
          "base_uri": "https://localhost:8080/",
          "height": 296
        },
        "outputId": "326cc9aa-8db6-4095-ddce-107ca99b3e59"
      },
      "source": [
        "from sklearn.linear_model import LinearRegression\n",
        "\n",
        "linear_regression_model = LinearRegression() # Создаем объект линейного регрессора\n",
        "# Обучаем модель на точках\n",
        "X = pd.DataFrame(ipi_data.index)\n",
        "linear_regression_model.fit(X, ipi_data['industry_prod_index'])\n",
        "LinearRegression(copy_X=True, fit_intercept=True, n_jobs=None, normalize=False)\n",
        "result = linear_regression_model.predict(X)\n",
        "plt.plot(ipi_data['observation_date'], ipi_data['industry_prod_index'])\n",
        "plt.plot(ipi_data['observation_date'], result)\n",
        "plt.xlabel(\"Годы\")\n",
        "plt.ylabel(\"ИПП э/газ оборудования\")"
      ],
      "execution_count": null,
      "outputs": [
        {
          "output_type": "execute_result",
          "data": {
            "text/plain": [
              "Text(0, 0.5, 'ИПП э/газ оборудования')"
            ]
          },
          "metadata": {
            "tags": []
          },
          "execution_count": 7
        },
        {
          "output_type": "display_data",
          "data": {
            "image/png": "[encoded data removed]",
            "text/plain": [
              "<Figure size 432x288 with 1 Axes>"
            ]
          },
          "metadata": {
            "tags": [],
            "needs_background": "light"
          }
        }
      ]
    },
    {
      "cell_type": "markdown",
      "metadata": {
        "id": "UcPIQA3SE4nL",
        "colab_type": "text"
      },
      "source": [
        "Линия тренда сформирована, судя по ней, производство электрогазового оборудования в будущем будет только увеличиваться, что может быть связано с увеличением уровня ВВП."
      ]
    },
    {
      "cell_type": "markdown",
      "metadata": {
        "id": "0ZfD2MzjGwPa",
        "colab_type": "text"
      },
      "source": [
        "Словосочетание \"может быть\" в нашем случае неприемлемо, поэтому, нужно провести **корреляцию** ИПП электрогазового оборудования с ВВП США, введя ещё одну таблицу, таблицу годового ВВП США (https://fred.stlouisfed.org/series/GDPA с того же сайта, откуда была скачана таблица ИПП), перед вводом, проделав практически те же процедуры, что и с таблицей ИПП:"
      ]
    },
    {
      "cell_type": "code",
      "metadata": {
        "id": "bUGtrqX_Grev",
        "colab_type": "code",
        "colab": {}
      },
      "source": [
        "annual_gdp_link = 'https://drive.google.com/uc?export=download&id=1fDrRFHE25bnsykkwVN_4ecHIt8j8m0Md'\n",
        "\n",
        "annual_gdp_data = pd.read_excel(annual_gdp_link)"
      ],
      "execution_count": null,
      "outputs": []
    },
    {
      "cell_type": "markdown",
      "metadata": {
        "id": "ieGZv0s_QQog",
        "colab_type": "text"
      },
      "source": [
        "Обрезаем всё до 1939 года, так как данные об ИПП электрогазового оборудования ведут свой отсчет именно с 1939 года:"
      ]
    },
    {
      "cell_type": "code",
      "metadata": {
        "id": "fm38JZF6Qt9R",
        "colab_type": "code",
        "colab": {
          "base_uri": "https://localhost:8080/",
          "height": 450
        },
        "outputId": "b5a782a5-c342-414b-f36b-c0b5ba0f62cc"
      },
      "source": [
        "annual_gdp_data.set_index('observation_date')['1939-01-01':'2019-01-01']"
      ],
      "execution_count": null,
      "outputs": [
        {
          "output_type": "execute_result",
          "data": {
            "text/html": [
              "<div>\n",
              "<style scoped>\n",
              "    .dataframe tbody tr th:only-of-type {\n",
              "        vertical-align: middle;\n",
              "    }\n",
              "\n",
              "    .dataframe tbody tr th {\n",
              "        vertical-align: top;\n",
              "    }\n",
              "\n",
              "    .dataframe thead th {\n",
              "        text-align: right;\n",
              "    }\n",
              "</style>\n",
              "<table border=\"1\" class=\"dataframe\">\n",
              "  <thead>\n",
              "    <tr style=\"text-align: right;\">\n",
              "      <th></th>\n",
              "      <th>GDPA</th>\n",
              "    </tr>\n",
              "    <tr>\n",
              "      <th>observation_date</th>\n",
              "      <th></th>\n",
              "    </tr>\n",
              "  </thead>\n",
              "  <tbody>\n",
              "    <tr>\n",
              "      <th>1939-01-01</th>\n",
              "      <td>93.437</td>\n",
              "    </tr>\n",
              "    <tr>\n",
              "      <th>1940-01-01</th>\n",
              "      <td>102.899</td>\n",
              "    </tr>\n",
              "    <tr>\n",
              "      <th>1941-01-01</th>\n",
              "      <td>129.309</td>\n",
              "    </tr>\n",
              "    <tr>\n",
              "      <th>1942-01-01</th>\n",
              "      <td>165.952</td>\n",
              "    </tr>\n",
              "    <tr>\n",
              "      <th>1943-01-01</th>\n",
              "      <td>203.084</td>\n",
              "    </tr>\n",
              "    <tr>\n",
              "      <th>...</th>\n",
              "      <td>...</td>\n",
              "    </tr>\n",
              "    <tr>\n",
              "      <th>2015-01-01</th>\n",
              "      <td>18224.780</td>\n",
              "    </tr>\n",
              "    <tr>\n",
              "      <th>2016-01-01</th>\n",
              "      <td>18715.040</td>\n",
              "    </tr>\n",
              "    <tr>\n",
              "      <th>2017-01-01</th>\n",
              "      <td>19519.424</td>\n",
              "    </tr>\n",
              "    <tr>\n",
              "      <th>2018-01-01</th>\n",
              "      <td>20580.223</td>\n",
              "    </tr>\n",
              "    <tr>\n",
              "      <th>2019-01-01</th>\n",
              "      <td>21427.690</td>\n",
              "    </tr>\n",
              "  </tbody>\n",
              "</table>\n",
              "<p>81 rows × 1 columns</p>\n",
              "</div>"
            ],
            "text/plain": [
              "                       GDPA\n",
              "observation_date           \n",
              "1939-01-01           93.437\n",
              "1940-01-01          102.899\n",
              "1941-01-01          129.309\n",
              "1942-01-01          165.952\n",
              "1943-01-01          203.084\n",
              "...                     ...\n",
              "2015-01-01        18224.780\n",
              "2016-01-01        18715.040\n",
              "2017-01-01        19519.424\n",
              "2018-01-01        20580.223\n",
              "2019-01-01        21427.690\n",
              "\n",
              "[81 rows x 1 columns]"
            ]
          },
          "metadata": {
            "tags": []
          },
          "execution_count": 9
        }
      ]
    },
    {
      "cell_type": "markdown",
      "metadata": {
        "id": "3W5IO1IYF5nU",
        "colab_type": "text"
      },
      "source": [
        "Делаем график:\n"
      ]
    },
    {
      "cell_type": "code",
      "metadata": {
        "id": "cYsTfebpIYe4",
        "colab_type": "code",
        "colab": {
          "base_uri": "https://localhost:8080/",
          "height": 296
        },
        "outputId": "1e60c49a-abc2-419e-b744-56960a76fd24"
      },
      "source": [
        "plt.plot(annual_gdp_data['observation_date'], annual_gdp_data['GDPA'])\n",
        "plt.xlabel(\"Годы\")\n",
        "plt.ylabel(\"ВВП (млрд. $)\")"
      ],
      "execution_count": null,
      "outputs": [
        {
          "output_type": "execute_result",
          "data": {
            "text/plain": [
              "Text(0, 0.5, 'ВВП (млрд. $)')"
            ]
          },
          "metadata": {
            "tags": []
          },
          "execution_count": 10
        },
        {
          "output_type": "display_data",
          "data": {
            "image/png": "[encoded data removed]",
            "text/plain": [
              "<Figure size 432x288 with 1 Axes>"
            ]
          },
          "metadata": {
            "tags": [],
            "needs_background": "light"
          }
        }
      ]
    },
    {
      "cell_type": "markdown",
      "metadata": {
        "id": "Qbra3v83R6U-",
        "colab_type": "text"
      },
      "source": [
        "Визуально графики не совсем схожи друг с другом, однако тренды говорят об обратном:"
      ]
    },
    {
      "cell_type": "code",
      "metadata": {
        "id": "rxJ3RTsVSIr7",
        "colab_type": "code",
        "colab": {
          "base_uri": "https://localhost:8080/",
          "height": 296
        },
        "outputId": "9db81372-57fe-4a5a-b855-bf61f9f20957"
      },
      "source": [
        "from sklearn.linear_model import LinearRegression\n",
        "\n",
        "linear_regression_model = LinearRegression() # Создаем объект линейного регрессора\n",
        "# Обучаем модель на точках\n",
        "X = pd.DataFrame(annual_gdp_data.index)\n",
        "linear_regression_model.fit(X, annual_gdp_data['GDPA'])\n",
        "LinearRegression(copy_X=True, fit_intercept=True, n_jobs=None, normalize=False)\n",
        "result = linear_regression_model.predict(X)\n",
        "plt.plot(annual_gdp_data['observation_date'], annual_gdp_data['GDPA'])\n",
        "plt.plot(annual_gdp_data['observation_date'], result)\n",
        "plt.xlabel(\"Годы\")\n",
        "plt.ylabel(\"ВВП (млрд. $)\")"
      ],
      "execution_count": null,
      "outputs": [
        {
          "output_type": "execute_result",
          "data": {
            "text/plain": [
              "Text(0, 0.5, 'ВВП (млрд. $)')"
            ]
          },
          "metadata": {
            "tags": []
          },
          "execution_count": 11
        },
        {
          "output_type": "display_data",
          "data": {
            "image/png": "[encoded data removed]",
            "text/plain": [
              "<Figure size 432x288 with 1 Axes>"
            ]
          },
          "metadata": {
            "tags": [],
            "needs_background": "light"
          }
        }
      ]
    },
    {
      "cell_type": "markdown",
      "metadata": {
        "id": "DyyQYbiyTPam",
        "colab_type": "text"
      },
      "source": [
        "Визуально совместив графики в графическом редакторе paint.net, можно обнаружить, что тренды схожи между собой:\n",
        "\n",
        "![visual_likeness.png](https://sun9-21.userapi.com/z38DT5jTeqhmOGLWNKhEqyKu0LAYf4GnWLHuSw/TKPXcUjxoG0.jpg)"
      ]
    },
    {
      "cell_type": "markdown",
      "metadata": {
        "id": "fnXErUq2CV7y",
        "colab_type": "text"
      },
      "source": [
        "Однако, вспомним, что таблица производства ИПП электрогазового оборудования помесячная, а таблица ВВП -- годовая, поэтому, над *DataFrame* ИПП электрогазового оборудования нужно произвести преобразования, а именно сделать саму таблицу годовой (ресэмплинг), то есть, данные об ИПП будут за каждый год от 1939 до 2019 гг."
      ]
    },
    {
      "cell_type": "code",
      "metadata": {
        "id": "w04vjESZC3UI",
        "colab_type": "code",
        "colab": {
          "base_uri": "https://localhost:8080/",
          "height": 450
        },
        "outputId": "c7539e0a-45b0-4816-c8dc-be07d6f53706"
      },
      "source": [
        "ipi_data['observation_date'] = pd.to_datetime(ipi_data['observation_date'])\n",
        "ipi_data_yearly = ipi_data.resample('Y', on='observation_date').sum()\n",
        "ipi_data_yearly"
      ],
      "execution_count": null,
      "outputs": [
        {
          "output_type": "execute_result",
          "data": {
            "text/html": [
              "<div>\n",
              "<style scoped>\n",
              "    .dataframe tbody tr th:only-of-type {\n",
              "        vertical-align: middle;\n",
              "    }\n",
              "\n",
              "    .dataframe tbody tr th {\n",
              "        vertical-align: top;\n",
              "    }\n",
              "\n",
              "    .dataframe thead th {\n",
              "        text-align: right;\n",
              "    }\n",
              "</style>\n",
              "<table border=\"1\" class=\"dataframe\">\n",
              "  <thead>\n",
              "    <tr style=\"text-align: right;\">\n",
              "      <th></th>\n",
              "      <th>industry_prod_index</th>\n",
              "    </tr>\n",
              "    <tr>\n",
              "      <th>observation_date</th>\n",
              "      <th></th>\n",
              "    </tr>\n",
              "  </thead>\n",
              "  <tbody>\n",
              "    <tr>\n",
              "      <th>1939-12-31</th>\n",
              "      <td>42.9866</td>\n",
              "    </tr>\n",
              "    <tr>\n",
              "      <th>1940-12-31</th>\n",
              "      <td>47.4043</td>\n",
              "    </tr>\n",
              "    <tr>\n",
              "      <th>1941-12-31</th>\n",
              "      <td>53.4749</td>\n",
              "    </tr>\n",
              "    <tr>\n",
              "      <th>1942-12-31</th>\n",
              "      <td>60.0627</td>\n",
              "    </tr>\n",
              "    <tr>\n",
              "      <th>1943-12-31</th>\n",
              "      <td>66.3663</td>\n",
              "    </tr>\n",
              "    <tr>\n",
              "      <th>...</th>\n",
              "      <td>...</td>\n",
              "    </tr>\n",
              "    <tr>\n",
              "      <th>2015-12-31</th>\n",
              "      <td>1232.8973</td>\n",
              "    </tr>\n",
              "    <tr>\n",
              "      <th>2016-12-31</th>\n",
              "      <td>1227.5572</td>\n",
              "    </tr>\n",
              "    <tr>\n",
              "      <th>2017-12-31</th>\n",
              "      <td>1218.1957</td>\n",
              "    </tr>\n",
              "    <tr>\n",
              "      <th>2018-12-31</th>\n",
              "      <td>1271.1520</td>\n",
              "    </tr>\n",
              "    <tr>\n",
              "      <th>2019-12-31</th>\n",
              "      <td>1253.6116</td>\n",
              "    </tr>\n",
              "  </tbody>\n",
              "</table>\n",
              "<p>81 rows × 1 columns</p>\n",
              "</div>"
            ],
            "text/plain": [
              "                  industry_prod_index\n",
              "observation_date                     \n",
              "1939-12-31                    42.9866\n",
              "1940-12-31                    47.4043\n",
              "1941-12-31                    53.4749\n",
              "1942-12-31                    60.0627\n",
              "1943-12-31                    66.3663\n",
              "...                               ...\n",
              "2015-12-31                  1232.8973\n",
              "2016-12-31                  1227.5572\n",
              "2017-12-31                  1218.1957\n",
              "2018-12-31                  1271.1520\n",
              "2019-12-31                  1253.6116\n",
              "\n",
              "[81 rows x 1 columns]"
            ]
          },
          "metadata": {
            "tags": []
          },
          "execution_count": 12
        }
      ]
    },
    {
      "cell_type": "markdown",
      "metadata": {
        "id": "dodIx_sAIkYJ",
        "colab_type": "text"
      },
      "source": [
        "Сделаем график:"
      ]
    },
    {
      "cell_type": "code",
      "metadata": {
        "id": "kxz3p2m6G-Qw",
        "colab_type": "code",
        "colab": {
          "base_uri": "https://localhost:8080/",
          "height": 296
        },
        "outputId": "75dabbde-97b3-4248-92bf-43d75d1f2f85"
      },
      "source": [
        "plt.plot(ipi_data_yearly.index, ipi_data_yearly['industry_prod_index'])\n",
        "plt.xlabel(\"Годы\")\n",
        "plt.ylabel(\"ИПП э/газ оборудования\")"
      ],
      "execution_count": null,
      "outputs": [
        {
          "output_type": "execute_result",
          "data": {
            "text/plain": [
              "Text(0, 0.5, 'ИПП э/газ оборудования')"
            ]
          },
          "metadata": {
            "tags": []
          },
          "execution_count": 13
        },
        {
          "output_type": "display_data",
          "data": {
            "image/png": "[encoded data removed]",
            "text/plain": [
              "<Figure size 432x288 with 1 Axes>"
            ]
          },
          "metadata": {
            "tags": [],
            "needs_background": "light"
          }
        }
      ]
    },
    {
      "cell_type": "markdown",
      "metadata": {
        "id": "EQ3Q0H2ZNf8K",
        "colab_type": "text"
      },
      "source": [
        "Вычислим тренд:"
      ]
    },
    {
      "cell_type": "code",
      "metadata": {
        "id": "JiIpsoebNhvq",
        "colab_type": "code",
        "colab": {
          "base_uri": "https://localhost:8080/",
          "height": 296
        },
        "outputId": "e2959b2f-c8c5-433a-dac4-f908c1483905"
      },
      "source": [
        "from sklearn.linear_model import LinearRegression\n",
        "\n",
        "ipi_data_yearly_indexed = ipi_data_yearly.reset_index()\n",
        "linear_regression_model = LinearRegression() # Создаем объект линейного регрессора\n",
        "# Обучаем модель на точках\n",
        "X = pd.DataFrame(ipi_data_yearly_indexed.index)\n",
        "linear_regression_model.fit(X, ipi_data_yearly_indexed['industry_prod_index'])\n",
        "LinearRegression(copy_X=True, fit_intercept=True, n_jobs=None, normalize=False)\n",
        "result = linear_regression_model.predict(X)\n",
        "plt.plot(ipi_data_yearly_indexed['observation_date'], ipi_data_yearly_indexed['industry_prod_index'])\n",
        "plt.plot(ipi_data_yearly_indexed['observation_date'], result)\n",
        "plt.xlabel(\"Годы\")\n",
        "plt.ylabel(\"ИПП э/газ оборудования\")"
      ],
      "execution_count": null,
      "outputs": [
        {
          "output_type": "execute_result",
          "data": {
            "text/plain": [
              "Text(0, 0.5, 'ИПП э/газ оборудования')"
            ]
          },
          "metadata": {
            "tags": []
          },
          "execution_count": 14
        },
        {
          "output_type": "display_data",
          "data": {
            "image/png": "[encoded data removed]",
            "text/plain": [
              "<Figure size 432x288 with 1 Axes>"
            ]
          },
          "metadata": {
            "tags": [],
            "needs_background": "light"
          }
        }
      ]
    },
    {
      "cell_type": "markdown",
      "metadata": {
        "id": "hdGjgTKQIoEJ",
        "colab_type": "text"
      },
      "source": [
        "Теперь графики более-менее похожи друг на друга, а это значит, что можно вычислить значение корреляции:\n",
        "\n",
        "![plot_likeness.png](https://sun9-9.userapi.com/d7ITiA47leV3XpWB5ANxc2RLhVbOTJsB3JtOuA/64vcyDqfEFE.jpg)"
      ]
    },
    {
      "cell_type": "code",
      "metadata": {
        "id": "vX_9D_olJFLk",
        "colab_type": "code",
        "colab": {
          "base_uri": "https://localhost:8080/",
          "height": 34
        },
        "outputId": "b60357cc-173d-4acc-aa2d-60377604750a"
      },
      "source": [
        "annual_gdp = annual_gdp_data['GDPA']\n",
        "industry_prod_index = ipi_data['industry_prod_index']\n",
        "correlation = annual_gdp.corr(industry_prod_index)\n",
        "correlation"
      ],
      "execution_count": null,
      "outputs": [
        {
          "output_type": "execute_result",
          "data": {
            "text/plain": [
              "0.79020994952612"
            ]
          },
          "metadata": {
            "tags": []
          },
          "execution_count": 15
        }
      ]
    },
    {
      "cell_type": "markdown",
      "metadata": {
        "id": "QncG91q4LvmN",
        "colab_type": "text"
      },
      "source": [
        "Как и предполагалось, связь между ВВП и ИПП электрогазового оборудования довольно высокая (по шкале Чеддока), а это значит, что ВВП всё-таки влияет на производство электрогазового оборудования, равно как и производство влияет на ВВП.\n",
        "\n",
        "![cheddock_scale.jpg](https://s0.slide-share.ru/s_slide/aeedcb1c8678b3a2e8ea6036c243450d/df47afab-273c-4f62-b1a0-283015cef0a0.jpeg)"
      ]
    },
    {
      "cell_type": "markdown",
      "metadata": {
        "id": "rurMvpYKRZ4Q",
        "colab_type": "text"
      },
      "source": [
        "Какие ещё выводы можно сделать, исходя из полученных графиков, кроме того, что производство электрогазового оборудования, равно как и ВВП, будет расти в будущем?\n",
        "\n",
        "Для этого нужно посмотреть на оба графика:"
      ]
    },
    {
      "cell_type": "code",
      "metadata": {
        "id": "eSTfmjUSShTZ",
        "colab_type": "code",
        "colab": {
          "base_uri": "https://localhost:8080/",
          "height": 281
        },
        "outputId": "93183ed8-29dd-43a8-fa6b-0b4b00d895a4"
      },
      "source": [
        "fig, axs = plt.subplots(2, sharex=True)\n",
        "axs[0].plot(annual_gdp_data['observation_date'], annual_gdp_data['GDPA'])\n",
        "axs[0].set_title('Годовой ВВП США (1939-2019), млрд. $')\n",
        "axs[1].plot(ipi_data_yearly.index, ipi_data_yearly['industry_prod_index'])\n",
        "axs[1].set_title('ИПП э/газ оборудования (1939-2019)')\n",
        "for ax in axs.flat:\n",
        "    ax.label_outer()"
      ],
      "execution_count": null,
      "outputs": [
        {
          "output_type": "display_data",
          "data": {
            "image/png": "[encoded data removed]",
            "text/plain": [
              "<Figure size 432x288 with 2 Axes>"
            ]
          },
          "metadata": {
            "tags": [],
            "needs_background": "light"
          }
        }
      ]
    },
    {
      "cell_type": "markdown",
      "metadata": {
        "id": "70BcAvMwTk5T",
        "colab_type": "text"
      },
      "source": [
        "На графике явствует, что ВВП и ИПП с 1939 по 1950 гг. практически не росли, что можно объяснить двумя причинами:\n",
        "\n",
        "*   Прокатившейся по США [Великой депрессией](https://ru.wikipedia.org/wiki/%D0%92%D0%B5%D0%BB%D0%B8%D0%BA%D0%B0%D1%8F_%D0%B4%D0%B5%D0%BF%D1%80%D0%B5%D1%81%D1%81%D0%B8%D1%8F)\n",
        "*   Самым разрушительным конфликтом в истории человечества — [Второй мировой войной](https://ru.wikipedia.org/wiki/%D0%92%D1%82%D0%BE%D1%80%D0%B0%D1%8F_%D0%BC%D0%B8%D1%80%D0%BE%D0%B2%D0%B0%D1%8F_%D0%B2%D0%BE%D0%B9%D0%BD%D0%B0)\n",
        "\n",
        "Согласитесь, что находясь в таком состоянии, экономика США не могла никоим образом разрастись так, как начала расти, начиная с середины 1955 г."
      ]
    },
    {
      "cell_type": "markdown",
      "metadata": {
        "id": "qjElNIdrWHhi",
        "colab_type": "text"
      },
      "source": [
        "По поводу других методов, разобранных во втором дне интенсива, можно сказать следующее:\n",
        "\n",
        "*   Вычислять минимум и максимум, равно как и средн**и**е, бессмысленно, так как производство ИПП напрямую зависит от ВВП, которое отражает экономическое состояние страны\n",
        "*   Вычисление квантиля и гистограммы (частотный анализ) также является бессмысленным действием по вышеуказанным причинам.\n",
        "*   Выяснить сезонность затруднительно из-за недостатка данных по ВВП США (предпочтительными данными являлись бы помесячные данные), а именно: существующие квартальные данные на сайте https://fred.stlouisfed.org/categories/106 не отражают данные 1939-1946 гг., что необходимо для полного анализа сезонности.\n"
      ]
    },
    {
      "cell_type": "markdown",
      "metadata": {
        "id": "U8dATPyHY-Ej",
        "colab_type": "text"
      },
      "source": [
        "Суммируя вышеуказанное и вышеполученное (исходя из данных), мы получаем, что:\n",
        "\n",
        "*   ИПП электрогазооборудования сильно зависит от ВВП\n",
        "*   ИПП электрогазооборудования будет расти в будущем\n",
        "*   ВВП будет расти в будущем\n",
        "*   В 1939-1955 гг. ИПП и ВВП практически не росли из-за кризиса, вызванными Великой депрессией (биржевой крах) и Второй мировой войной (нужно было обороняться от сильных и хитрых врагов, имевших в совокупности большие военные мощности)\n",
        "*   Начиная с 1955 г. ВВП США начал расти, что можно объяснить оправкой от последствий Великой депрессии и Второй мировой войны, и переделом сфер влияния США на международной арене ([План Маршалла](https://ru.wikipedia.org/wiki/%D0%9F%D0%BB%D0%B0%D0%BD_%D0%9C%D0%B0%D1%80%D1%88%D0%B0%D0%BB%D0%BB%D0%B0#:~:text=%D0%9F%D0%BB%D0%B0%D0%BD%20%D0%9C%C3%A1%D1%80%D1%88%D0%B0%D0%BB%D0%BB%D0%B0%20(%D0%B0%D0%BD%D0%B3%D0%BB.%20Marshall%20Plan,%D0%B4%D0%B5%D0%B9%D1%81%D1%82%D0%B2%D0%B8%D0%B5%20%D0%B2%20%D0%B0%D0%BF%D1%80%D0%B5%D0%BB%D0%B5%201948%20%D0%B3%D0%BE%D0%B4%D0%B0.)))\n",
        "*  С началом роста ВВП США начал расти ИПП электрогазооборудования\n",
        "*  Спрос на электроэнергию и энергию голубого топлива (газ) растёт сильнее с каждым годом\n"
      ]
    }
  ]
}